{
 "cells": [
  {
   "cell_type": "code",
   "execution_count": null,
   "metadata": {},
   "outputs": [],
   "source": [
    "import os\n",
    "from PIL import Image\n",
    "import cv2\n",
    "from tqdm.notebook import tqdm\n",
    "import random"
   ]
  },
  {
   "cell_type": "code",
   "execution_count": null,
   "metadata": {},
   "outputs": [],
   "source": [
    "original_root = 'Original/Test'\n",
    "target_root = 'TextDetection/Test'"
   ]
  },
  {
   "cell_type": "code",
   "execution_count": null,
   "metadata": {},
   "outputs": [],
   "source": [
    "def convert_to_yolotxt(source_root, target_root):\n",
    "    \n",
    "    # Define source paths\n",
    "    src_images_dir = os.path.join(source_root, 'Image')\n",
    "    src_labels_dir = os.path.join(source_root, 'Annotation')\n",
    "    \n",
    "    # Define target paths\n",
    "    tar_images_dir = os.path.join(target_root, 'images')\n",
    "    tar_labels_dir = os.path.join(target_root, 'labels')\n",
    "\n",
    "    # Create target directory structure\n",
    "    os.makedirs(tar_images_dir, exist_ok=True)\n",
    "    os.makedirs(tar_labels_dir, exist_ok=True)\n",
    "\n",
    "    file_ctr = 0\n",
    "    # Load Annotations and Images\n",
    "    for img_file, lbl_file in tqdm(zip(os.listdir(src_images_dir), \n",
    "                                       os.listdir(src_labels_dir)), \n",
    "                                   total=len(os.listdir(src_images_dir))):\n",
    "\n",
    "        img_file_path = os.path.join(src_images_dir, img_file)\n",
    "        lbl_file_path = os.path.join(src_labels_dir, lbl_file)\n",
    "\n",
    "        # print(img_file_path, lbl_file_path)\n",
    "\n",
    "        # load image\n",
    "        image = Image.open(img_file_path)\n",
    "\n",
    "        # load original annotations\n",
    "        with open(lbl_file_path, 'r') as f:\n",
    "            annotations = f.read().strip().split('\\n')\n",
    "\n",
    "        # print(annotations)\n",
    "\n",
    "        # create an ordered list of coordinate tuples [(x1, y1), ...]\n",
    "        coordinates = []\n",
    "        for a in annotations:\n",
    "            vals = a.split(',')[:-1]\n",
    "            coord = []\n",
    "            for i in range(4):\n",
    "                x = int(float(vals[i]))\n",
    "                y = int(float(vals[i+4]))\n",
    "                coord.append((x if x >= 0 else 0, y if y >= 0 else 0))\n",
    "\n",
    "            coordinates.append(coord)\n",
    "\n",
    "\n",
    "        # convert to yolo annotations\n",
    "        # cls_id, centerX, centerY, width, height\n",
    "        # (values are normalized)\n",
    "        boxes = []\n",
    "        yolo_annots = []\n",
    "\n",
    "        for coord in coordinates:\n",
    "            top, _, _, bottom = sorted(coord, key=lambda c: c[1])\n",
    "            left, _, _, right = sorted(coord, key=lambda c: c[0])\n",
    "\n",
    "            top_left = (left[0], top[1])\n",
    "            bottom_right = (right[0], bottom[1])\n",
    "\n",
    "            center_x, center_y = (top_left[0] + bottom_right[0]) / 2, (top_left[1] + bottom_right[1]) / 2\n",
    "            width, height = abs(top_left[0] - bottom_right[0]), abs(top_left[1] - bottom_right[1])\n",
    "\n",
    "            boxes.append((top_left, bottom_right))\n",
    "\n",
    "            yolo_annots.append((0, center_x / image.width, center_y / image.height, width / image.width, height / image.height))\n",
    "\n",
    "        # converting the annotations into string\n",
    "        yolo_annotation_string = []\n",
    "\n",
    "        for y in yolo_annots:\n",
    "            yolo_annotation_string.append(\" \".join(list(map(lambda x: str(round(x, 3)), y))))\n",
    "\n",
    "        yolo_annotation_string = \"\\n\".join(yolo_annotation_string)\n",
    "\n",
    "        # write the annotations and image to the target dir\n",
    "        with open(os.path.join(tar_labels_dir, f\"{file_ctr}.txt\"), 'w') as f:\n",
    "            f.write(yolo_annotation_string)\n",
    "\n",
    "        image.save(os.path.join(tar_images_dir, f\"{file_ctr}.jpg\"))\n",
    "\n",
    "        file_ctr += 1"
   ]
  },
  {
   "cell_type": "code",
   "execution_count": null,
   "metadata": {},
   "outputs": [
    {
     "data": {
      "application/vnd.jupyter.widget-view+json": {
       "model_id": "76f54939fd4946bf9dd26ddb155d44f0",
       "version_major": 2,
       "version_minor": 0
      },
      "text/plain": [
       "  0%|          | 0/428 [00:00<?, ?it/s]"
      ]
     },
     "metadata": {},
     "output_type": "display_data"
    }
   ],
   "source": [
    "convert_to_yolotxt(original_root, target_root)"
   ]
  },
  {
   "cell_type": "code",
   "execution_count": null,
   "metadata": {},
   "outputs": [],
   "source": []
  }
 ],
 "metadata": {
  "kernelspec": {
   "display_name": "Python 3",
   "language": "python",
   "name": "python3"
  },
  "language_info": {
   "codemirror_mode": {
    "name": "ipython",
    "version": 3
   },
   "file_extension": ".py",
   "mimetype": "text/x-python",
   "name": "python",
   "nbconvert_exporter": "python",
   "pygments_lexer": "ipython3",
   "version": "3.8.8"
  }
 },
 "nbformat": 4,
 "nbformat_minor": 4
}
