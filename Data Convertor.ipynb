{
 "cells": [
  {
   "cell_type": "code",
   "execution_count": 1,
   "metadata": {},
   "outputs": [],
   "source": [
    "import os\n",
    "from PIL import Image\n",
    "import cv2\n",
    "from tqdm.notebook import tqdm"
   ]
  },
  {
   "cell_type": "code",
   "execution_count": 2,
   "metadata": {},
   "outputs": [],
   "source": [
    "original_root = 'Original/'\n",
    "target_root = 'TextDetection/Train'"
   ]
  },
  {
   "cell_type": "code",
   "execution_count": 3,
   "metadata": {},
   "outputs": [],
   "source": [
    "def convert_to_yolotxt(source_root, target_root):\n",
    "    \n",
    "    # Define source paths\n",
    "    src_images_dir = os.path.join(source_root, 'Image')\n",
    "    src_labels_dir = os.path.join(source_root, 'Annotation')\n",
    "    \n",
    "    # Define target paths\n",
    "    tar_images_dir = os.path.join(target_root, 'images')\n",
    "    tar_labels_dir = os.path.join(target_root, 'labels')\n",
    "\n",
    "    # Create target directory structure\n",
    "    os.makedirs(tar_images_dir, exist_ok=True)\n",
    "    os.makedirs(tar_labels_dir, exist_ok=True)\n",
    "\n",
    "    file_ctr = 0\n",
    "    # Load Annotations and Images\n",
    "    for img_subfolder, lbl_subfolder in tqdm(zip(os.listdir(src_images_dir), \n",
    "                                                 os.listdir(src_labels_dir)), \n",
    "                                             total=len(os.listdir(src_images_dir))):\n",
    "        \n",
    "        img_subfolder_path = os.path.join(src_images_dir, img_subfolder)\n",
    "        lbl_subfolder_path = os.path.join(src_labels_dir, lbl_subfolder)\n",
    "        # print(f'Currently in SubFolder {img_subfolder}')\n",
    "\n",
    "        for img_file, lbl_file in tqdm(zip(os.listdir(img_subfolder_path), \n",
    "                                           os.listdir(lbl_subfolder_path)), \n",
    "                                       total=len(os.listdir(img_subfolder_path))):\n",
    "            \n",
    "            img_file_path = os.path.join(img_subfolder_path, img_file)\n",
    "            lbl_file_path = os.path.join(lbl_subfolder_path, lbl_file)\n",
    "\n",
    "            # print(img_file_path, lbl_file_path)\n",
    "            \n",
    "            # load image\n",
    "            image = Image.open(img_file_path)\n",
    "            \n",
    "            # load original annotations\n",
    "            with open(lbl_file_path, 'r') as f:\n",
    "                annotations = f.read().strip().split('\\n')\n",
    "\n",
    "            # print(annotations)\n",
    "            \n",
    "            # create an ordered list of coordinate tuples [(x1, y1), ...]\n",
    "            coordinates = []\n",
    "            for a in annotations:\n",
    "                vals = a.split()[:-1]\n",
    "                coord = []\n",
    "                for i in range(4):\n",
    "                    x = int(float(vals[i]))\n",
    "                    y = int(float(vals[i+4]))\n",
    "                    coord.append((x if x >= 0 else 0, y if y >= 0 else 0))\n",
    "\n",
    "                coordinates.append(coord)\n",
    "            \n",
    "\n",
    "            # convert to yolo annotations\n",
    "            # cls_id, centerX, centerY, width, height\n",
    "            # (values are normalized)\n",
    "            boxes = []\n",
    "            yolo_annots = []\n",
    "\n",
    "            for coord in coordinates:\n",
    "                top, _, _, bottom = sorted(coord, key=lambda c: c[1])\n",
    "                left, _, _, right = sorted(coord, key=lambda c: c[0])\n",
    "\n",
    "                top_left = (left[0], top[1])\n",
    "                bottom_right = (right[0], bottom[1])\n",
    "\n",
    "                center_x, center_y = (top_left[0] + bottom_right[0]) / 2, (top_left[1] + bottom_right[1]) / 2\n",
    "                width, height = abs(top_left[0] - bottom_right[0]), abs(top_left[1] - bottom_right[1])\n",
    "\n",
    "                boxes.append((top_left, bottom_right))\n",
    "\n",
    "                yolo_annots.append((0, center_x / image.width, center_y / image.height, width / image.width, height / image.height))\n",
    "\n",
    "            # converting the annotations into string\n",
    "            yolo_annotation_string = []\n",
    "            \n",
    "            for y in yolo_annots:\n",
    "                yolo_annotation_string.append(\" \".join(list(map(lambda x: str(round(x, 3)), y))))\n",
    "            \n",
    "            yolo_annotation_string = \"\\n\".join(yolo_annotation_string)\n",
    "            \n",
    "            # write the annotations and image to the target dir\n",
    "            with open(os.path.join(tar_labels_dir, f\"{file_ctr}.txt\"), 'w') as f:\n",
    "                f.write(yolo_annotation_string)\n",
    "            \n",
    "            image.save(os.path.join(tar_images_dir, f\"{file_ctr}.jpg\"))\n",
    "            \n",
    "            file_ctr += 1"
   ]
  },
  {
   "cell_type": "code",
   "execution_count": 4,
   "metadata": {},
   "outputs": [
    {
     "data": {
      "application/vnd.jupyter.widget-view+json": {
       "model_id": "7b31ae74fb2840d5b3f8639eeed911ca",
       "version_major": 2,
       "version_minor": 0
      },
      "text/plain": [
       "  0%|          | 0/25 [00:00<?, ?it/s]"
      ]
     },
     "metadata": {},
     "output_type": "display_data"
    },
    {
     "data": {
      "application/vnd.jupyter.widget-view+json": {
       "model_id": "f2eddb2e54ab4d8790a6852a58aa2ec8",
       "version_major": 2,
       "version_minor": 0
      },
      "text/plain": [
       "  0%|          | 0/4703 [00:00<?, ?it/s]"
      ]
     },
     "metadata": {},
     "output_type": "display_data"
    },
    {
     "data": {
      "application/vnd.jupyter.widget-view+json": {
       "model_id": "b497a1b518384a099764840f9e6a70d1",
       "version_major": 2,
       "version_minor": 0
      },
      "text/plain": [
       "  0%|          | 0/4775 [00:00<?, ?it/s]"
      ]
     },
     "metadata": {},
     "output_type": "display_data"
    },
    {
     "data": {
      "application/vnd.jupyter.widget-view+json": {
       "model_id": "1f2926499f324792b5e27edb53c07fc9",
       "version_major": 2,
       "version_minor": 0
      },
      "text/plain": [
       "  0%|          | 0/4875 [00:00<?, ?it/s]"
      ]
     },
     "metadata": {},
     "output_type": "display_data"
    },
    {
     "data": {
      "application/vnd.jupyter.widget-view+json": {
       "model_id": "f526719be7a74457b18c7889fe6beac9",
       "version_major": 2,
       "version_minor": 0
      },
      "text/plain": [
       "  0%|          | 0/4577 [00:00<?, ?it/s]"
      ]
     },
     "metadata": {},
     "output_type": "display_data"
    },
    {
     "data": {
      "application/vnd.jupyter.widget-view+json": {
       "model_id": "00f259edd36a419c95ef1dab565ac8e0",
       "version_major": 2,
       "version_minor": 0
      },
      "text/plain": [
       "  0%|          | 0/4729 [00:00<?, ?it/s]"
      ]
     },
     "metadata": {},
     "output_type": "display_data"
    },
    {
     "data": {
      "application/vnd.jupyter.widget-view+json": {
       "model_id": "73b6ac57b94c4cb980b948dfa3480e57",
       "version_major": 2,
       "version_minor": 0
      },
      "text/plain": [
       "  0%|          | 0/4549 [00:00<?, ?it/s]"
      ]
     },
     "metadata": {},
     "output_type": "display_data"
    },
    {
     "data": {
      "application/vnd.jupyter.widget-view+json": {
       "model_id": "189b4facaa4e4efaa149d6598e171ec2",
       "version_major": 2,
       "version_minor": 0
      },
      "text/plain": [
       "  0%|          | 0/4745 [00:00<?, ?it/s]"
      ]
     },
     "metadata": {},
     "output_type": "display_data"
    },
    {
     "data": {
      "application/vnd.jupyter.widget-view+json": {
       "model_id": "5e0ede51249d4f61bb2f4db8bb40f5c8",
       "version_major": 2,
       "version_minor": 0
      },
      "text/plain": [
       "  0%|          | 0/4529 [00:00<?, ?it/s]"
      ]
     },
     "metadata": {},
     "output_type": "display_data"
    },
    {
     "data": {
      "application/vnd.jupyter.widget-view+json": {
       "model_id": "d0c04c54fe1e4023b1a1c18c1ad64d3e",
       "version_major": 2,
       "version_minor": 0
      },
      "text/plain": [
       "  0%|          | 0/4865 [00:00<?, ?it/s]"
      ]
     },
     "metadata": {},
     "output_type": "display_data"
    },
    {
     "data": {
      "application/vnd.jupyter.widget-view+json": {
       "model_id": "61969d3b27d84d63801b91087a7d9af2",
       "version_major": 2,
       "version_minor": 0
      },
      "text/plain": [
       "  0%|          | 0/4251 [00:00<?, ?it/s]"
      ]
     },
     "metadata": {},
     "output_type": "display_data"
    },
    {
     "data": {
      "application/vnd.jupyter.widget-view+json": {
       "model_id": "744121b4c08549a1b0692cca72bc19d9",
       "version_major": 2,
       "version_minor": 0
      },
      "text/plain": [
       "  0%|          | 0/4352 [00:00<?, ?it/s]"
      ]
     },
     "metadata": {},
     "output_type": "display_data"
    },
    {
     "data": {
      "application/vnd.jupyter.widget-view+json": {
       "model_id": "fc49c58232974f6dbf423b7107891746",
       "version_major": 2,
       "version_minor": 0
      },
      "text/plain": [
       "  0%|          | 0/4732 [00:00<?, ?it/s]"
      ]
     },
     "metadata": {},
     "output_type": "display_data"
    },
    {
     "data": {
      "application/vnd.jupyter.widget-view+json": {
       "model_id": "1566762498eb4945a80fb05eecec6a3b",
       "version_major": 2,
       "version_minor": 0
      },
      "text/plain": [
       "  0%|          | 0/4525 [00:00<?, ?it/s]"
      ]
     },
     "metadata": {},
     "output_type": "display_data"
    },
    {
     "data": {
      "application/vnd.jupyter.widget-view+json": {
       "model_id": "a0963c8a213a41508e71ac462bcd1328",
       "version_major": 2,
       "version_minor": 0
      },
      "text/plain": [
       "  0%|          | 0/4474 [00:00<?, ?it/s]"
      ]
     },
     "metadata": {},
     "output_type": "display_data"
    },
    {
     "data": {
      "application/vnd.jupyter.widget-view+json": {
       "model_id": "72c19911c80a4e608676079028844801",
       "version_major": 2,
       "version_minor": 0
      },
      "text/plain": [
       "  0%|          | 0/4577 [00:00<?, ?it/s]"
      ]
     },
     "metadata": {},
     "output_type": "display_data"
    },
    {
     "data": {
      "application/vnd.jupyter.widget-view+json": {
       "model_id": "a6712b8dc7f54f659a7b49314303a2f6",
       "version_major": 2,
       "version_minor": 0
      },
      "text/plain": [
       "  0%|          | 0/4669 [00:00<?, ?it/s]"
      ]
     },
     "metadata": {},
     "output_type": "display_data"
    },
    {
     "data": {
      "application/vnd.jupyter.widget-view+json": {
       "model_id": "a0005e463f234ab4bd3f94521386021a",
       "version_major": 2,
       "version_minor": 0
      },
      "text/plain": [
       "  0%|          | 0/4753 [00:00<?, ?it/s]"
      ]
     },
     "metadata": {},
     "output_type": "display_data"
    },
    {
     "data": {
      "application/vnd.jupyter.widget-view+json": {
       "model_id": "b13476951f5e49799777c4d8cd7193ae",
       "version_major": 2,
       "version_minor": 0
      },
      "text/plain": [
       "  0%|          | 0/4815 [00:00<?, ?it/s]"
      ]
     },
     "metadata": {},
     "output_type": "display_data"
    },
    {
     "data": {
      "application/vnd.jupyter.widget-view+json": {
       "model_id": "a6d1689839da43019d1fd2a3c50eeb74",
       "version_major": 2,
       "version_minor": 0
      },
      "text/plain": [
       "  0%|          | 0/4636 [00:00<?, ?it/s]"
      ]
     },
     "metadata": {},
     "output_type": "display_data"
    },
    {
     "data": {
      "application/vnd.jupyter.widget-view+json": {
       "model_id": "75aa796d4053487ea663cab4c6f27cf1",
       "version_major": 2,
       "version_minor": 0
      },
      "text/plain": [
       "  0%|          | 0/4571 [00:00<?, ?it/s]"
      ]
     },
     "metadata": {},
     "output_type": "display_data"
    },
    {
     "data": {
      "application/vnd.jupyter.widget-view+json": {
       "model_id": "5abcaafe89de4d71818b394b54d5bf65",
       "version_major": 2,
       "version_minor": 0
      },
      "text/plain": [
       "  0%|          | 0/4574 [00:00<?, ?it/s]"
      ]
     },
     "metadata": {},
     "output_type": "display_data"
    },
    {
     "data": {
      "application/vnd.jupyter.widget-view+json": {
       "model_id": "8cc4a98cdce84069bed79201e99c767f",
       "version_major": 2,
       "version_minor": 0
      },
      "text/plain": [
       "  0%|          | 0/4587 [00:00<?, ?it/s]"
      ]
     },
     "metadata": {},
     "output_type": "display_data"
    },
    {
     "data": {
      "application/vnd.jupyter.widget-view+json": {
       "model_id": "efb3bb51455c455cbbabbc8dc11feedc",
       "version_major": 2,
       "version_minor": 0
      },
      "text/plain": [
       "  0%|          | 0/4900 [00:00<?, ?it/s]"
      ]
     },
     "metadata": {},
     "output_type": "display_data"
    },
    {
     "data": {
      "application/vnd.jupyter.widget-view+json": {
       "model_id": "a4b06d58f1a5466b8783ffa3336f3af3",
       "version_major": 2,
       "version_minor": 0
      },
      "text/plain": [
       "  0%|          | 0/4560 [00:00<?, ?it/s]"
      ]
     },
     "metadata": {},
     "output_type": "display_data"
    },
    {
     "data": {
      "application/vnd.jupyter.widget-view+json": {
       "model_id": "491bed2143254b5dab33b9ec70af5bab",
       "version_major": 2,
       "version_minor": 0
      },
      "text/plain": [
       "  0%|          | 0/4809 [00:00<?, ?it/s]"
      ]
     },
     "metadata": {},
     "output_type": "display_data"
    }
   ],
   "source": [
    "convert_to_yolotxt(original_root, target_root)"
   ]
  },
  {
   "cell_type": "code",
   "execution_count": 6,
   "metadata": {},
   "outputs": [
    {
     "data": {
      "text/plain": [
       "116133"
      ]
     },
     "execution_count": 6,
     "metadata": {},
     "output_type": "execute_result"
    }
   ],
   "source": [
    "len(os.listdir('TextDetection/Train/labels/'))"
   ]
  },
  {
   "cell_type": "code",
   "execution_count": null,
   "metadata": {},
   "outputs": [],
   "source": []
  },
  {
   "cell_type": "code",
   "execution_count": null,
   "metadata": {},
   "outputs": [],
   "source": []
  }
 ],
 "metadata": {
  "interpreter": {
   "hash": "60fbf1aecf0122793952a73a80d27bc8732eff9e143c13520ca117508929b1c7"
  },
  "kernelspec": {
   "display_name": "Python 3",
   "language": "python",
   "name": "python3"
  },
  "language_info": {
   "codemirror_mode": {
    "name": "ipython",
    "version": 3
   },
   "file_extension": ".py",
   "mimetype": "text/x-python",
   "name": "python",
   "nbconvert_exporter": "python",
   "pygments_lexer": "ipython3",
   "version": "3.8.8"
  }
 },
 "nbformat": 4,
 "nbformat_minor": 4
}
