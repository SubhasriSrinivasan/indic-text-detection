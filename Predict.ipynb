{
 "cells": [
  {
   "cell_type": "code",
   "execution_count": null,
   "id": "b76fa9f9-6998-4cc3-a5c9-f9b3850ea4d1",
   "metadata": {},
   "outputs": [],
   "source": [
    "import cv2\n",
    "import torch\n",
    "from PIL import Image"
   ]
  },
  {
   "cell_type": "code",
   "execution_count": null,
   "id": "7859812a-4ed8-4112-b280-1767bc36e20b",
   "metadata": {},
   "outputs": [
    {
     "name": "stderr",
     "output_type": "stream",
     "text": [
      "Using cache found in /home/ubuntu/.cache/torch/hub/ultralytics_yolov5_master\n",
      "YOLOv5 🚀 2021-10-10 torch 1.9.0 CPU\n",
      "\n",
      "Fusing layers... \n",
      "Model Summary: 308 layers, 21037638 parameters, 0 gradients\n",
      "Adding AutoShape... \n"
     ]
    }
   ],
   "source": [
    "model = torch.hub.load('ultralytics/yolov5', 'custom', path=\"trained_model/weights/best.pt\")"
   ]
  },
  {
   "cell_type": "code",
   "execution_count": null,
   "id": "d3222a58-bf9f-48ff-b63d-6139344d69e9",
   "metadata": {},
   "outputs": [],
   "source": [
    "img = Image.open('test_images/img.jpg')"
   ]
  },
  {
   "cell_type": "code",
   "execution_count": null,
   "id": "34263015-0d97-44c1-9e10-85bf4755e13c",
   "metadata": {},
   "outputs": [],
   "source": [
    "results = model([img], size=640)"
   ]
  },
  {
   "cell_type": "code",
   "execution_count": null,
   "id": "8f4502a7-882c-43a4-b2fe-313417274642",
   "metadata": {},
   "outputs": [
    {
     "data": {
      "image/png": "[encoded data removed]",
      "text/plain": [
       "<PIL.Image.Image image mode=RGB size=225x225 at 0x7F94C515F100>"
      ]
     },
     "metadata": {},
     "output_type": "display_data"
    }
   ],
   "source": [
    "results.show()"
   ]
  },
  {
   "cell_type": "code",
   "execution_count": null,
   "id": "8e024a8e-5ea7-436c-acba-75661f7d0307",
   "metadata": {},
   "outputs": [
    {
     "data": {
      "text/html": [
       "<div>\n",
       "<style scoped>\n",
       "    .dataframe tbody tr th:only-of-type {\n",
       "        vertical-align: middle;\n",
       "    }\n",
       "\n",
       "    .dataframe tbody tr th {\n",
       "        vertical-align: top;\n",
       "    }\n",
       "\n",
       "    .dataframe thead th {\n",
       "        text-align: right;\n",
       "    }\n",
       "</style>\n",
       "<table border=\"1\" class=\"dataframe\">\n",
       "  <thead>\n",
       "    <tr style=\"text-align: right;\">\n",
       "      <th></th>\n",
       "      <th>xmin</th>\n",
       "      <th>ymin</th>\n",
       "      <th>xmax</th>\n",
       "      <th>ymax</th>\n",
       "      <th>confidence</th>\n",
       "      <th>class</th>\n",
       "      <th>name</th>\n",
       "    </tr>\n",
       "  </thead>\n",
       "  <tbody>\n",
       "    <tr>\n",
       "      <th>0</th>\n",
       "      <td>245.174133</td>\n",
       "      <td>148.713623</td>\n",
       "      <td>312.253754</td>\n",
       "      <td>175.389481</td>\n",
       "      <td>0.913053</td>\n",
       "      <td>0</td>\n",
       "      <td>text</td>\n",
       "    </tr>\n",
       "    <tr>\n",
       "      <th>1</th>\n",
       "      <td>162.082260</td>\n",
       "      <td>139.193329</td>\n",
       "      <td>239.690002</td>\n",
       "      <td>168.065857</td>\n",
       "      <td>0.901956</td>\n",
       "      <td>0</td>\n",
       "      <td>text</td>\n",
       "    </tr>\n",
       "    <tr>\n",
       "      <th>2</th>\n",
       "      <td>158.929764</td>\n",
       "      <td>105.742912</td>\n",
       "      <td>236.180481</td>\n",
       "      <td>134.037567</td>\n",
       "      <td>0.900915</td>\n",
       "      <td>0</td>\n",
       "      <td>text</td>\n",
       "    </tr>\n",
       "    <tr>\n",
       "      <th>3</th>\n",
       "      <td>162.228745</td>\n",
       "      <td>179.576935</td>\n",
       "      <td>267.906189</td>\n",
       "      <td>207.363083</td>\n",
       "      <td>0.858898</td>\n",
       "      <td>0</td>\n",
       "      <td>text</td>\n",
       "    </tr>\n",
       "    <tr>\n",
       "      <th>4</th>\n",
       "      <td>277.639130</td>\n",
       "      <td>179.894806</td>\n",
       "      <td>332.706543</td>\n",
       "      <td>202.521042</td>\n",
       "      <td>0.783088</td>\n",
       "      <td>0</td>\n",
       "      <td>text</td>\n",
       "    </tr>\n",
       "    <tr>\n",
       "      <th>5</th>\n",
       "      <td>240.727066</td>\n",
       "      <td>105.957794</td>\n",
       "      <td>288.248962</td>\n",
       "      <td>133.571060</td>\n",
       "      <td>0.773711</td>\n",
       "      <td>0</td>\n",
       "      <td>text</td>\n",
       "    </tr>\n",
       "    <tr>\n",
       "      <th>6</th>\n",
       "      <td>240.027664</td>\n",
       "      <td>106.728340</td>\n",
       "      <td>353.027740</td>\n",
       "      <td>133.725235</td>\n",
       "      <td>0.723879</td>\n",
       "      <td>0</td>\n",
       "      <td>text</td>\n",
       "    </tr>\n",
       "  </tbody>\n",
       "</table>\n",
       "</div>"
      ],
      "text/plain": [
       "         xmin        ymin        xmax        ymax  confidence  class  name\n",
       "0  245.174133  148.713623  312.253754  175.389481    0.913053      0  text\n",
       "1  162.082260  139.193329  239.690002  168.065857    0.901956      0  text\n",
       "2  158.929764  105.742912  236.180481  134.037567    0.900915      0  text\n",
       "3  162.228745  179.576935  267.906189  207.363083    0.858898      0  text\n",
       "4  277.639130  179.894806  332.706543  202.521042    0.783088      0  text\n",
       "5  240.727066  105.957794  288.248962  133.571060    0.773711      0  text\n",
       "6  240.027664  106.728340  353.027740  133.725235    0.723879      0  text"
      ]
     },
     "execution_count": 44,
     "metadata": {},
     "output_type": "execute_result"
    }
   ],
   "source": [
    "results.pandas().xyxy[0]"
   ]
  },
  {
   "cell_type": "code",
   "execution_count": null,
   "id": "38aa2398-0ee8-4e45-83d0-de9a3c324f49",
   "metadata": {},
   "outputs": [],
   "source": []
  }
 ],
 "metadata": {
  "kernelspec": {
   "display_name": "PyTorch 1.9",
   "language": "python",
   "name": "pytorch"
  },
  "language_info": {
   "codemirror_mode": {
    "name": "ipython",
    "version": 3
   },
   "file_extension": ".py",
   "mimetype": "text/x-python",
   "name": "python",
   "nbconvert_exporter": "python",
   "pygments_lexer": "ipython3",
   "version": "3.8.8"
  }
 },
 "nbformat": 4,
 "nbformat_minor": 5
}
